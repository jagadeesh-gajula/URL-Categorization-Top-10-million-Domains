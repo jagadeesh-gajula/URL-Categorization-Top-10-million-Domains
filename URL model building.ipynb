{
 "cells": [
  {
   "cell_type": "code",
   "execution_count": 4,
   "metadata": {},
   "outputs": [],
   "source": [
    "import pandas as pd\n",
    "import matplotlib.pyplot as plt\n",
    "pd.low_memory=False\n",
    "import random\n",
    "\n",
    "df = pd.read_csv(\"URL Classification.csv\")\n",
    "df = df.drop('1',axis=1)\n",
    "df.columns=['url','category']\n",
    "data = pd.DataFrame(columns=['url','category'])"
   ]
  },
  {
   "cell_type": "code",
   "execution_count": 5,
   "metadata": {},
   "outputs": [],
   "source": [
    "categories = df.category.unique().tolist()\n",
    "for i in categories:\n",
    "    index_list = df[df.category == i ].index.tolist()\n",
    "    x = random.sample(index_list,5000)\n",
    "    data = pd.concat([df.loc[x],data],axis=0)"
   ]
  },
  {
   "cell_type": "code",
   "execution_count": 7,
   "metadata": {},
   "outputs": [],
   "source": [
    "data.to_csv('sample_data.csv',index=False)"
   ]
  },
  {
   "cell_type": "code",
   "execution_count": 27,
   "metadata": {},
   "outputs": [],
   "source": [
    "pd.read('')"
   ]
  }
 ],
 "metadata": {
  "kernelspec": {
   "display_name": "Python 3",
   "language": "python",
   "name": "python3"
  },
  "language_info": {
   "codemirror_mode": {
    "name": "ipython",
    "version": 3
   },
   "file_extension": ".py",
   "mimetype": "text/x-python",
   "name": "python",
   "nbconvert_exporter": "python",
   "pygments_lexer": "ipython3",
   "version": "3.7.6"
  }
 },
 "nbformat": 4,
 "nbformat_minor": 2
}
